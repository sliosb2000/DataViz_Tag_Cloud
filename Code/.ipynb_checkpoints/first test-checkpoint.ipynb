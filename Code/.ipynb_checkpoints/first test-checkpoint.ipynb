{
 "cells": [
  {
   "cell_type": "markdown",
   "id": "e417369a",
   "metadata": {},
   "source": [
    "# FROM https://www.geeksforgeeks.org/generating-word-cloud-python/\n"
   ]
  },
  {
   "cell_type": "code",
   "execution_count": null,
   "id": "fe761f15",
   "metadata": {},
   "outputs": [],
   "source": [
    "# Python program to generate WordCloud\n",
    "\n",
    "# importing all necessary modules\n",
    "from wordcloud import WordCloud, STOPWORDS\n",
    "import matplotlib.pyplot as plt\n",
    "import pandas as pd\n",
    "\n",
    "# Reads 'Youtube04-Eminem.csv' file\n",
    "df = pd.read_csv(r\"Youtube04-Eminem.csv\", encoding =\"latin-1\")\n",
    "\n",
    "comment_words = ''\n",
    "stopwords = set(STOPWORDS)\n",
    "\n",
    "# iterate through the csv file\n",
    "for val in df.CONTENT:\n",
    "\t\n",
    "\t# typecaste each val to string\n",
    "\tval = str(val)\n",
    "\n",
    "\t# split the value\n",
    "\ttokens = val.split()\n",
    "\t\n",
    "\t# Converts each token into lowercase\n",
    "\tfor i in range(len(tokens)):\n",
    "\t\ttokens[i] = tokens[i].lower()\n",
    "\t\n",
    "\tcomment_words += \" \".join(tokens)+\" \"\n",
    "\n",
    "\n",
    "wordcloud = WordCloud(width = 800, height = 800,\n",
    "\t\t\t\tbackground_color ='white',\n",
    "\t\t\t\tstopwords = stopwords,\n",
    "\t\t\t\tmin_font_size = 10).generate(comment_words)\n",
    "\n",
    "# plot the WordCloud image\t\t\t\t\t\n",
    "plt.figure(figsize = (8, 8), facecolor = None)\n",
    "plt.imshow(wordcloud)\n",
    "plt.axis(\"off\")\n",
    "plt.tight_layout(pad = 0)\n",
    "\n",
    "plt.show()\n"
   ]
  },
  {
   "cell_type": "code",
   "execution_count": 12,
   "id": "9f9599ea",
   "metadata": {},
   "outputs": [
    {
     "name": "stdout",
     "output_type": "stream",
     "text": [
      "{\"where's\", 'as', \"isn't\", \"shan't\", 'or', 'shall', \"didn't\", 'up', 'their', 'all', \"won't\", 'here', 'when', 'her', 'through', 'against', 'am', \"i'm\", \"that's\", 'over', 'before', 'but', 'can', 'just', 'yourselves', 'again', \"he'd\", 'above', 'an', 'we', 'off', 'does', 'your', 'in', 'they', 'while', 'some', 'his', 'should', 'by', 'into', 'our', \"she's\", 'about', 'how', \"wouldn't\", 'between', 'with', 'its', \"can't\", 'herself', \"hasn't\", \"we'll\", \"they've\", 'been', 'at', 'being', 'few', \"i'd\", 'ought', 'out', 'however', 'these', \"they're\", 'very', \"she'd\", 'ever', 'a', 'yourself', 'why', \"it's\", 'www', \"hadn't\", \"who's\", 'who', 'was', \"don't\", 'i', \"they'd\", 'could', 'own', 'himself', 'otherwise', 'she', 'under', 'itself', 'from', 'like', \"weren't\", 'http', \"shouldn't\", \"why's\", 'nor', \"there's\", 'below', 'has', \"he's\", \"she'll\", \"you'll\", 'ourselves', 'to', \"he'll\", 'so', \"i'll\", 'ours', 'also', \"haven't\", 'of', 'for', 'else', 'more', \"let's\", 'than', \"when's\", 'myself', 'because', 'too', 'theirs', \"you're\", 'com', \"we'd\", 'him', 'only', 'hence', 'this', 'same', 'down', 'those', \"what's\", \"here's\", \"you've\", 'each', 'them', \"wasn't\", 'he', 'both', 'were', 'did', 'doing', \"they'll\", 'no', \"we've\", 'you', 'whom', \"couldn't\", \"we're\", \"doesn't\", 'me', 'had', 'having', 'which', 'have', 'themselves', 'not', 'hers', 'yours', 'most', 'are', \"mustn't\", 'what', 'after', 'further', 'k', 'once', 'there', 'the', 'where', \"aren't\", 'be', \"you'd\", 'if', 'and', 'until', 'it', 'such', 'would', 'any', 'my', 'other', \"how's\", \"i've\", 'that', 'on', 'then', 'therefore', 'since', 'is', 'do', 'get', 'during', 'r', 'cannot'}\n"
     ]
    }
   ],
   "source": [
    "print(stopwords)\n"
   ]
  },
  {
   "cell_type": "markdown",
   "id": "a1790262",
   "metadata": {},
   "source": [
    "# https://matplotlib.org/stable/users/explain/interactive.html"
   ]
  },
  {
   "cell_type": "code",
   "execution_count": 2,
   "id": "ab97a359",
   "metadata": {},
   "outputs": [
    {
     "name": "stdout",
     "output_type": "stream",
     "text": [
      "Using matplotlib backend: Qt5Agg\n"
     ]
    }
   ],
   "source": [
    "%matplotlib\n",
    "import matplotlib.pyplot as plt"
   ]
  },
  {
   "cell_type": "code",
   "execution_count": 3,
   "id": "51a49ed4",
   "metadata": {},
   "outputs": [],
   "source": [
    "fig, ax = plt.subplots()"
   ]
  },
  {
   "cell_type": "code",
   "execution_count": 4,
   "id": "a12f74ac",
   "metadata": {},
   "outputs": [],
   "source": [
    "ln, = ax.plot(range(5))"
   ]
  },
  {
   "cell_type": "code",
   "execution_count": 6,
   "id": "db3934e5",
   "metadata": {},
   "outputs": [],
   "source": [
    "ln.set_color('orange')"
   ]
  },
  {
   "cell_type": "code",
   "execution_count": 7,
   "id": "a11f6ed7",
   "metadata": {},
   "outputs": [
    {
     "data": {
      "text/plain": [
       "<matplotlib.pyplot._IonContext at 0x27e09d86580>"
      ]
     },
     "execution_count": 7,
     "metadata": {},
     "output_type": "execute_result"
    }
   ],
   "source": [
    "plt.ion()"
   ]
  },
  {
   "cell_type": "markdown",
   "id": "fecb23cc",
   "metadata": {},
   "source": [
    "# https://www.datacamp.com/tutorial/wordcloud-python"
   ]
  },
  {
   "cell_type": "code",
   "execution_count": null,
   "id": "b8031c0b",
   "metadata": {},
   "outputs": [],
   "source": [
    "# Menu deroulant interactife tag  cloud https://www.youtube.com/watch?v=J3kpHpjtKDg"
   ]
  },
  {
   "cell_type": "code",
   "execution_count": null,
   "id": "18454415",
   "metadata": {},
   "outputs": [],
   "source": []
  },
  {
   "cell_type": "code",
   "execution_count": null,
   "id": "86019318",
   "metadata": {},
   "outputs": [],
   "source": []
  },
  {
   "cell_type": "code",
   "execution_count": null,
   "id": "e9a487fc",
   "metadata": {},
   "outputs": [],
   "source": []
  }
 ],
 "metadata": {
  "kernelspec": {
   "display_name": "Python 3 (ipykernel)",
   "language": "python",
   "name": "python3"
  },
  "language_info": {
   "codemirror_mode": {
    "name": "ipython",
    "version": 3
   },
   "file_extension": ".py",
   "mimetype": "text/x-python",
   "name": "python",
   "nbconvert_exporter": "python",
   "pygments_lexer": "ipython3",
   "version": "3.9.7"
  }
 },
 "nbformat": 4,
 "nbformat_minor": 5
}
